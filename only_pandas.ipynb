{
 "cells": [
  {
   "cell_type": "code",
   "execution_count": 1,
   "id": "4d2e5de0",
   "metadata": {},
   "outputs": [],
   "source": [
    "import pandas as pd\n",
    "import matplotlib.pyplot as plt\n",
    "import seaborn as sns\n",
    "import plotly.express as px\n",
    "import numpy as np\n",
    "\n"
   ]
  },
  {
   "cell_type": "code",
   "execution_count": 2,
   "id": "ad71ec8b",
   "metadata": {},
   "outputs": [],
   "source": [
    "Housing_data=pd.read_csv(\"Housing_CA.csv\")"
   ]
  },
  {
   "cell_type": "code",
   "execution_count": 3,
   "id": "2b7080e5",
   "metadata": {},
   "outputs": [
    {
     "data": {
      "text/html": [
       "<div>\n",
       "<style scoped>\n",
       "    .dataframe tbody tr th:only-of-type {\n",
       "        vertical-align: middle;\n",
       "    }\n",
       "\n",
       "    .dataframe tbody tr th {\n",
       "        vertical-align: top;\n",
       "    }\n",
       "\n",
       "    .dataframe thead th {\n",
       "        text-align: right;\n",
       "    }\n",
       "</style>\n",
       "<table border=\"1\" class=\"dataframe\">\n",
       "  <thead>\n",
       "    <tr style=\"text-align: right;\">\n",
       "      <th></th>\n",
       "      <th>id</th>\n",
       "      <th>url</th>\n",
       "      <th>region</th>\n",
       "      <th>region_url</th>\n",
       "      <th>price</th>\n",
       "      <th>type</th>\n",
       "      <th>sqfeet</th>\n",
       "      <th>beds</th>\n",
       "      <th>baths</th>\n",
       "      <th>cats_allowed</th>\n",
       "      <th>...</th>\n",
       "      <th>wheelchair_access</th>\n",
       "      <th>electric_vehicle_charge</th>\n",
       "      <th>comes_furnished</th>\n",
       "      <th>laundry_options</th>\n",
       "      <th>parking_options</th>\n",
       "      <th>image_url</th>\n",
       "      <th>description</th>\n",
       "      <th>lat</th>\n",
       "      <th>long</th>\n",
       "      <th>state</th>\n",
       "    </tr>\n",
       "  </thead>\n",
       "  <tbody>\n",
       "    <tr>\n",
       "      <th>0</th>\n",
       "      <td>7043564175</td>\n",
       "      <td>https://bakersfield.craigslist.org/apa/d/baker...</td>\n",
       "      <td>bakersfield</td>\n",
       "      <td>https://bakersfield.craigslist.org</td>\n",
       "      <td>980</td>\n",
       "      <td>apartment</td>\n",
       "      <td>1000</td>\n",
       "      <td>2</td>\n",
       "      <td>1.0</td>\n",
       "      <td>0</td>\n",
       "      <td>...</td>\n",
       "      <td>0</td>\n",
       "      <td>0</td>\n",
       "      <td>0</td>\n",
       "      <td>laundry on site</td>\n",
       "      <td>carport</td>\n",
       "      <td>https://images.craigslist.org/00k0k_ejqvoocN8W...</td>\n",
       "      <td>Our BEAUTIFUL apartments provide enough space ...</td>\n",
       "      <td>35.3468</td>\n",
       "      <td>-119.049</td>\n",
       "      <td>ca</td>\n",
       "    </tr>\n",
       "    <tr>\n",
       "      <th>1</th>\n",
       "      <td>7041801174</td>\n",
       "      <td>https://bakersfield.craigslist.org/apa/d/baker...</td>\n",
       "      <td>bakersfield</td>\n",
       "      <td>https://bakersfield.craigslist.org</td>\n",
       "      <td>700</td>\n",
       "      <td>apartment</td>\n",
       "      <td>800</td>\n",
       "      <td>2</td>\n",
       "      <td>1.0</td>\n",
       "      <td>1</td>\n",
       "      <td>...</td>\n",
       "      <td>0</td>\n",
       "      <td>0</td>\n",
       "      <td>0</td>\n",
       "      <td>NaN</td>\n",
       "      <td>NaN</td>\n",
       "      <td>https://images.craigslist.org/00H0H_3PQvYkL9nT...</td>\n",
       "      <td>New flooring, freshly painted &amp; bathroom has b...</td>\n",
       "      <td>35.3384</td>\n",
       "      <td>-119.063</td>\n",
       "      <td>ca</td>\n",
       "    </tr>\n",
       "    <tr>\n",
       "      <th>2</th>\n",
       "      <td>7047098271</td>\n",
       "      <td>https://fresno.craigslist.org/apa/d/fresno-fan...</td>\n",
       "      <td>fresno / madera</td>\n",
       "      <td>https://fresno.craigslist.org</td>\n",
       "      <td>1160</td>\n",
       "      <td>apartment</td>\n",
       "      <td>794</td>\n",
       "      <td>1</td>\n",
       "      <td>1.0</td>\n",
       "      <td>0</td>\n",
       "      <td>...</td>\n",
       "      <td>0</td>\n",
       "      <td>0</td>\n",
       "      <td>0</td>\n",
       "      <td>NaN</td>\n",
       "      <td>NaN</td>\n",
       "      <td>https://images.craigslist.org/00A0A_2q5ahaZNxT...</td>\n",
       "      <td>The Springs Apartments in Fresno, CA Welcome t...</td>\n",
       "      <td>36.8466</td>\n",
       "      <td>-119.775</td>\n",
       "      <td>ca</td>\n",
       "    </tr>\n",
       "    <tr>\n",
       "      <th>3</th>\n",
       "      <td>7046025600</td>\n",
       "      <td>https://fresno.craigslist.org/apa/d/fresno-all...</td>\n",
       "      <td>fresno / madera</td>\n",
       "      <td>https://fresno.craigslist.org</td>\n",
       "      <td>1529</td>\n",
       "      <td>apartment</td>\n",
       "      <td>1169</td>\n",
       "      <td>2</td>\n",
       "      <td>2.0</td>\n",
       "      <td>0</td>\n",
       "      <td>...</td>\n",
       "      <td>1</td>\n",
       "      <td>0</td>\n",
       "      <td>0</td>\n",
       "      <td>w/d in unit</td>\n",
       "      <td>attached garage</td>\n",
       "      <td>https://images.craigslist.org/00F0F_2gCgt0X7DZ...</td>\n",
       "      <td>-- Cascades -- show contact info  Monthly Rent...</td>\n",
       "      <td>36.8716</td>\n",
       "      <td>-119.770</td>\n",
       "      <td>ca</td>\n",
       "    </tr>\n",
       "    <tr>\n",
       "      <th>4</th>\n",
       "      <td>7048988213</td>\n",
       "      <td>https://hanford.craigslist.org/apa/d/waukena-y...</td>\n",
       "      <td>hanford-corcoran</td>\n",
       "      <td>https://hanford.craigslist.org</td>\n",
       "      <td>725</td>\n",
       "      <td>apartment</td>\n",
       "      <td>840</td>\n",
       "      <td>1</td>\n",
       "      <td>1.0</td>\n",
       "      <td>1</td>\n",
       "      <td>...</td>\n",
       "      <td>0</td>\n",
       "      <td>0</td>\n",
       "      <td>0</td>\n",
       "      <td>w/d hookups</td>\n",
       "      <td>carport</td>\n",
       "      <td>https://images.craigslist.org/00D0D_aebukiDrxE...</td>\n",
       "      <td>Welcome to Willow Lakes Apartment Homes, Corco...</td>\n",
       "      <td>36.0917</td>\n",
       "      <td>-119.572</td>\n",
       "      <td>ca</td>\n",
       "    </tr>\n",
       "    <tr>\n",
       "      <th>...</th>\n",
       "      <td>...</td>\n",
       "      <td>...</td>\n",
       "      <td>...</td>\n",
       "      <td>...</td>\n",
       "      <td>...</td>\n",
       "      <td>...</td>\n",
       "      <td>...</td>\n",
       "      <td>...</td>\n",
       "      <td>...</td>\n",
       "      <td>...</td>\n",
       "      <td>...</td>\n",
       "      <td>...</td>\n",
       "      <td>...</td>\n",
       "      <td>...</td>\n",
       "      <td>...</td>\n",
       "      <td>...</td>\n",
       "      <td>...</td>\n",
       "      <td>...</td>\n",
       "      <td>...</td>\n",
       "      <td>...</td>\n",
       "      <td>...</td>\n",
       "    </tr>\n",
       "    <tr>\n",
       "      <th>33080</th>\n",
       "      <td>7024408012</td>\n",
       "      <td>https://yubasutter.craigslist.org/apa/d/yuba-c...</td>\n",
       "      <td>yuba-sutter</td>\n",
       "      <td>https://yubasutter.craigslist.org</td>\n",
       "      <td>1145</td>\n",
       "      <td>apartment</td>\n",
       "      <td>872</td>\n",
       "      <td>2</td>\n",
       "      <td>1.0</td>\n",
       "      <td>1</td>\n",
       "      <td>...</td>\n",
       "      <td>0</td>\n",
       "      <td>0</td>\n",
       "      <td>0</td>\n",
       "      <td>laundry on site</td>\n",
       "      <td>carport</td>\n",
       "      <td>https://images.craigslist.org/00N0N_4jNOfqQ9dy...</td>\n",
       "      <td>Enjoy an enchanting stroll through nature! Tak...</td>\n",
       "      <td>39.1541</td>\n",
       "      <td>-121.591</td>\n",
       "      <td>ca</td>\n",
       "    </tr>\n",
       "    <tr>\n",
       "      <th>33081</th>\n",
       "      <td>7024400803</td>\n",
       "      <td>https://yubasutter.craigslist.org/apa/d/yuba-c...</td>\n",
       "      <td>yuba-sutter</td>\n",
       "      <td>https://yubasutter.craigslist.org</td>\n",
       "      <td>995</td>\n",
       "      <td>apartment</td>\n",
       "      <td>680</td>\n",
       "      <td>1</td>\n",
       "      <td>1.0</td>\n",
       "      <td>1</td>\n",
       "      <td>...</td>\n",
       "      <td>0</td>\n",
       "      <td>0</td>\n",
       "      <td>0</td>\n",
       "      <td>laundry on site</td>\n",
       "      <td>carport</td>\n",
       "      <td>https://images.craigslist.org/00K0K_cM0vpX7VyZ...</td>\n",
       "      <td>You'll find the best in apartment living at La...</td>\n",
       "      <td>39.1541</td>\n",
       "      <td>-121.591</td>\n",
       "      <td>ca</td>\n",
       "    </tr>\n",
       "    <tr>\n",
       "      <th>33082</th>\n",
       "      <td>7024104747</td>\n",
       "      <td>https://yubasutter.craigslist.org/apa/d/yuba-c...</td>\n",
       "      <td>yuba-sutter</td>\n",
       "      <td>https://yubasutter.craigslist.org</td>\n",
       "      <td>850</td>\n",
       "      <td>apartment</td>\n",
       "      <td>558</td>\n",
       "      <td>1</td>\n",
       "      <td>1.0</td>\n",
       "      <td>0</td>\n",
       "      <td>...</td>\n",
       "      <td>0</td>\n",
       "      <td>0</td>\n",
       "      <td>0</td>\n",
       "      <td>laundry on site</td>\n",
       "      <td>off-street parking</td>\n",
       "      <td>https://images.craigslist.org/00y0y_9969dxMSvs...</td>\n",
       "      <td>Welcome to La Serena Gardens, a Senior Housing...</td>\n",
       "      <td>39.1367</td>\n",
       "      <td>-121.625</td>\n",
       "      <td>ca</td>\n",
       "    </tr>\n",
       "    <tr>\n",
       "      <th>33083</th>\n",
       "      <td>7023883836</td>\n",
       "      <td>https://yubasutter.craigslist.org/apa/d/yuba-c...</td>\n",
       "      <td>yuba-sutter</td>\n",
       "      <td>https://yubasutter.craigslist.org</td>\n",
       "      <td>2500</td>\n",
       "      <td>house</td>\n",
       "      <td>2470</td>\n",
       "      <td>4</td>\n",
       "      <td>3.0</td>\n",
       "      <td>0</td>\n",
       "      <td>...</td>\n",
       "      <td>0</td>\n",
       "      <td>0</td>\n",
       "      <td>0</td>\n",
       "      <td>w/d in unit</td>\n",
       "      <td>attached garage</td>\n",
       "      <td>https://images.craigslist.org/00808_29lyQMw6Xz...</td>\n",
       "      <td>House for Rent, 2399 Holcomb Ave in Yuba City ...</td>\n",
       "      <td>39.0920</td>\n",
       "      <td>-121.658</td>\n",
       "      <td>ca</td>\n",
       "    </tr>\n",
       "    <tr>\n",
       "      <th>33084</th>\n",
       "      <td>7023875750</td>\n",
       "      <td>https://yubasutter.craigslist.org/apa/d/yuba-c...</td>\n",
       "      <td>yuba-sutter</td>\n",
       "      <td>https://yubasutter.craigslist.org</td>\n",
       "      <td>2000</td>\n",
       "      <td>house</td>\n",
       "      <td>3142</td>\n",
       "      <td>5</td>\n",
       "      <td>3.0</td>\n",
       "      <td>0</td>\n",
       "      <td>...</td>\n",
       "      <td>0</td>\n",
       "      <td>0</td>\n",
       "      <td>0</td>\n",
       "      <td>w/d in unit</td>\n",
       "      <td>attached garage</td>\n",
       "      <td>https://images.craigslist.org/00s0s_eWokfpL3xf...</td>\n",
       "      <td>House for Rent, 1979 Red Haven in Yuba City It...</td>\n",
       "      <td>39.1237</td>\n",
       "      <td>-121.661</td>\n",
       "      <td>ca</td>\n",
       "    </tr>\n",
       "  </tbody>\n",
       "</table>\n",
       "<p>33085 rows × 22 columns</p>\n",
       "</div>"
      ],
      "text/plain": [
       "               id                                                url  \\\n",
       "0      7043564175  https://bakersfield.craigslist.org/apa/d/baker...   \n",
       "1      7041801174  https://bakersfield.craigslist.org/apa/d/baker...   \n",
       "2      7047098271  https://fresno.craigslist.org/apa/d/fresno-fan...   \n",
       "3      7046025600  https://fresno.craigslist.org/apa/d/fresno-all...   \n",
       "4      7048988213  https://hanford.craigslist.org/apa/d/waukena-y...   \n",
       "...           ...                                                ...   \n",
       "33080  7024408012  https://yubasutter.craigslist.org/apa/d/yuba-c...   \n",
       "33081  7024400803  https://yubasutter.craigslist.org/apa/d/yuba-c...   \n",
       "33082  7024104747  https://yubasutter.craigslist.org/apa/d/yuba-c...   \n",
       "33083  7023883836  https://yubasutter.craigslist.org/apa/d/yuba-c...   \n",
       "33084  7023875750  https://yubasutter.craigslist.org/apa/d/yuba-c...   \n",
       "\n",
       "                 region                          region_url  price       type  \\\n",
       "0           bakersfield  https://bakersfield.craigslist.org    980  apartment   \n",
       "1           bakersfield  https://bakersfield.craigslist.org    700  apartment   \n",
       "2       fresno / madera       https://fresno.craigslist.org   1160  apartment   \n",
       "3       fresno / madera       https://fresno.craigslist.org   1529  apartment   \n",
       "4      hanford-corcoran      https://hanford.craigslist.org    725  apartment   \n",
       "...                 ...                                 ...    ...        ...   \n",
       "33080       yuba-sutter   https://yubasutter.craigslist.org   1145  apartment   \n",
       "33081       yuba-sutter   https://yubasutter.craigslist.org    995  apartment   \n",
       "33082       yuba-sutter   https://yubasutter.craigslist.org    850  apartment   \n",
       "33083       yuba-sutter   https://yubasutter.craigslist.org   2500      house   \n",
       "33084       yuba-sutter   https://yubasutter.craigslist.org   2000      house   \n",
       "\n",
       "       sqfeet  beds  baths  cats_allowed  ...  wheelchair_access  \\\n",
       "0        1000     2    1.0             0  ...                  0   \n",
       "1         800     2    1.0             1  ...                  0   \n",
       "2         794     1    1.0             0  ...                  0   \n",
       "3        1169     2    2.0             0  ...                  1   \n",
       "4         840     1    1.0             1  ...                  0   \n",
       "...       ...   ...    ...           ...  ...                ...   \n",
       "33080     872     2    1.0             1  ...                  0   \n",
       "33081     680     1    1.0             1  ...                  0   \n",
       "33082     558     1    1.0             0  ...                  0   \n",
       "33083    2470     4    3.0             0  ...                  0   \n",
       "33084    3142     5    3.0             0  ...                  0   \n",
       "\n",
       "       electric_vehicle_charge  comes_furnished  laundry_options  \\\n",
       "0                            0                0  laundry on site   \n",
       "1                            0                0              NaN   \n",
       "2                            0                0              NaN   \n",
       "3                            0                0      w/d in unit   \n",
       "4                            0                0      w/d hookups   \n",
       "...                        ...              ...              ...   \n",
       "33080                        0                0  laundry on site   \n",
       "33081                        0                0  laundry on site   \n",
       "33082                        0                0  laundry on site   \n",
       "33083                        0                0      w/d in unit   \n",
       "33084                        0                0      w/d in unit   \n",
       "\n",
       "          parking_options                                          image_url  \\\n",
       "0                 carport  https://images.craigslist.org/00k0k_ejqvoocN8W...   \n",
       "1                     NaN  https://images.craigslist.org/00H0H_3PQvYkL9nT...   \n",
       "2                     NaN  https://images.craigslist.org/00A0A_2q5ahaZNxT...   \n",
       "3         attached garage  https://images.craigslist.org/00F0F_2gCgt0X7DZ...   \n",
       "4                 carport  https://images.craigslist.org/00D0D_aebukiDrxE...   \n",
       "...                   ...                                                ...   \n",
       "33080             carport  https://images.craigslist.org/00N0N_4jNOfqQ9dy...   \n",
       "33081             carport  https://images.craigslist.org/00K0K_cM0vpX7VyZ...   \n",
       "33082  off-street parking  https://images.craigslist.org/00y0y_9969dxMSvs...   \n",
       "33083     attached garage  https://images.craigslist.org/00808_29lyQMw6Xz...   \n",
       "33084     attached garage  https://images.craigslist.org/00s0s_eWokfpL3xf...   \n",
       "\n",
       "                                             description      lat     long  \\\n",
       "0      Our BEAUTIFUL apartments provide enough space ...  35.3468 -119.049   \n",
       "1      New flooring, freshly painted & bathroom has b...  35.3384 -119.063   \n",
       "2      The Springs Apartments in Fresno, CA Welcome t...  36.8466 -119.775   \n",
       "3      -- Cascades -- show contact info  Monthly Rent...  36.8716 -119.770   \n",
       "4      Welcome to Willow Lakes Apartment Homes, Corco...  36.0917 -119.572   \n",
       "...                                                  ...      ...      ...   \n",
       "33080  Enjoy an enchanting stroll through nature! Tak...  39.1541 -121.591   \n",
       "33081  You'll find the best in apartment living at La...  39.1541 -121.591   \n",
       "33082  Welcome to La Serena Gardens, a Senior Housing...  39.1367 -121.625   \n",
       "33083  House for Rent, 2399 Holcomb Ave in Yuba City ...  39.0920 -121.658   \n",
       "33084  House for Rent, 1979 Red Haven in Yuba City It...  39.1237 -121.661   \n",
       "\n",
       "       state  \n",
       "0         ca  \n",
       "1         ca  \n",
       "2         ca  \n",
       "3         ca  \n",
       "4         ca  \n",
       "...      ...  \n",
       "33080     ca  \n",
       "33081     ca  \n",
       "33082     ca  \n",
       "33083     ca  \n",
       "33084     ca  \n",
       "\n",
       "[33085 rows x 22 columns]"
      ]
     },
     "execution_count": 3,
     "metadata": {},
     "output_type": "execute_result"
    }
   ],
   "source": [
    "Housing_data"
   ]
  },
  {
   "cell_type": "code",
   "execution_count": 4,
   "id": "aa0de356",
   "metadata": {},
   "outputs": [],
   "source": [
    "test=Housing_data.columns"
   ]
  },
  {
   "cell_type": "code",
   "execution_count": 5,
   "id": "e5a35bf0",
   "metadata": {},
   "outputs": [
    {
     "data": {
      "text/plain": [
       "0        Our BEAUTIFUL apartments provide enough space ...\n",
       "1        New flooring, freshly painted & bathroom has b...\n",
       "2        The Springs Apartments in Fresno, CA Welcome t...\n",
       "3        -- Cascades -- show contact info  Monthly Rent...\n",
       "4        Welcome to Willow Lakes Apartment Homes, Corco...\n",
       "                               ...                        \n",
       "33080    Enjoy an enchanting stroll through nature! Tak...\n",
       "33081    You'll find the best in apartment living at La...\n",
       "33082    Welcome to La Serena Gardens, a Senior Housing...\n",
       "33083    House for Rent, 2399 Holcomb Ave in Yuba City ...\n",
       "33084    House for Rent, 1979 Red Haven in Yuba City It...\n",
       "Name: description, Length: 33085, dtype: object"
      ]
     },
     "execution_count": 5,
     "metadata": {},
     "output_type": "execute_result"
    }
   ],
   "source": [
    "Housing_data['description']"
   ]
  },
  {
   "cell_type": "code",
   "execution_count": 6,
   "id": "3e58c5e9",
   "metadata": {},
   "outputs": [
    {
     "name": "stdout",
     "output_type": "stream",
     "text": [
      "0 id\n",
      "0 url\n",
      "0 region\n",
      "0 region_url\n",
      "0 price\n",
      "0 type\n",
      "0 sqfeet\n",
      "0 beds\n",
      "0 baths\n",
      "0 cats_allowed\n",
      "0 dogs_allowed\n",
      "0 smoking_allowed\n",
      "0 wheelchair_access\n",
      "0 electric_vehicle_charge\n",
      "0 comes_furnished\n",
      "5067 laundry_options\n",
      "8503 parking_options\n",
      "0 image_url\n",
      "0 description\n",
      "88 lat\n",
      "88 long\n",
      "0 state\n"
     ]
    }
   ],
   "source": [
    "for i in test:\n",
    "    new=Housing_data[i].isna().sum()\n",
    "    print(new,i)"
   ]
  },
  {
   "cell_type": "code",
   "execution_count": 7,
   "id": "70c5f6e8",
   "metadata": {},
   "outputs": [
    {
     "name": "stdout",
     "output_type": "stream",
     "text": [
      "<class 'pandas.core.frame.DataFrame'>\n",
      "RangeIndex: 33085 entries, 0 to 33084\n",
      "Data columns (total 22 columns):\n",
      " #   Column                   Non-Null Count  Dtype  \n",
      "---  ------                   --------------  -----  \n",
      " 0   id                       33085 non-null  int64  \n",
      " 1   url                      33085 non-null  object \n",
      " 2   region                   33085 non-null  object \n",
      " 3   region_url               33085 non-null  object \n",
      " 4   price                    33085 non-null  int64  \n",
      " 5   type                     33085 non-null  object \n",
      " 6   sqfeet                   33085 non-null  int64  \n",
      " 7   beds                     33085 non-null  int64  \n",
      " 8   baths                    33085 non-null  float64\n",
      " 9   cats_allowed             33085 non-null  int64  \n",
      " 10  dogs_allowed             33085 non-null  int64  \n",
      " 11  smoking_allowed          33085 non-null  int64  \n",
      " 12  wheelchair_access        33085 non-null  int64  \n",
      " 13  electric_vehicle_charge  33085 non-null  int64  \n",
      " 14  comes_furnished          33085 non-null  int64  \n",
      " 15  laundry_options          28018 non-null  object \n",
      " 16  parking_options          24582 non-null  object \n",
      " 17  image_url                33085 non-null  object \n",
      " 18  description              33085 non-null  object \n",
      " 19  lat                      32997 non-null  float64\n",
      " 20  long                     32997 non-null  float64\n",
      " 21  state                    33085 non-null  object \n",
      "dtypes: float64(3), int64(10), object(9)\n",
      "memory usage: 5.6+ MB\n"
     ]
    }
   ],
   "source": [
    "Housing_data.info()"
   ]
  },
  {
   "cell_type": "code",
   "execution_count": 8,
   "id": "c6886634",
   "metadata": {},
   "outputs": [
    {
     "data": {
      "text/plain": [
       "Index(['id', 'url', 'region', 'region_url', 'price', 'type', 'sqfeet', 'beds',\n",
       "       'baths', 'cats_allowed', 'dogs_allowed', 'smoking_allowed',\n",
       "       'wheelchair_access', 'electric_vehicle_charge', 'comes_furnished',\n",
       "       'laundry_options', 'parking_options', 'image_url', 'description', 'lat',\n",
       "       'long', 'state'],\n",
       "      dtype='object')"
      ]
     },
     "execution_count": 8,
     "metadata": {},
     "output_type": "execute_result"
    }
   ],
   "source": [
    "Housing_data.columns"
   ]
  },
  {
   "cell_type": "code",
   "execution_count": 9,
   "id": "4214e88a",
   "metadata": {},
   "outputs": [
    {
     "data": {
      "text/plain": [
       "parking_options            0.257005\n",
       "laundry_options            0.153151\n",
       "long                       0.002660\n",
       "lat                        0.002660\n",
       "id                         0.000000\n",
       "url                        0.000000\n",
       "description                0.000000\n",
       "image_url                  0.000000\n",
       "comes_furnished            0.000000\n",
       "electric_vehicle_charge    0.000000\n",
       "wheelchair_access          0.000000\n",
       "smoking_allowed            0.000000\n",
       "dogs_allowed               0.000000\n",
       "cats_allowed               0.000000\n",
       "baths                      0.000000\n",
       "beds                       0.000000\n",
       "sqfeet                     0.000000\n",
       "type                       0.000000\n",
       "price                      0.000000\n",
       "region_url                 0.000000\n",
       "region                     0.000000\n",
       "state                      0.000000\n",
       "dtype: float64"
      ]
     },
     "execution_count": 9,
     "metadata": {},
     "output_type": "execute_result"
    }
   ],
   "source": [
    "Housing_data.isna().mean().sort_values(ascending=False)\n"
   ]
  },
  {
   "cell_type": "code",
   "execution_count": 10,
   "id": "e8b63780",
   "metadata": {},
   "outputs": [
    {
     "data": {
      "image/png": "[encoded data removed]",
      "text/plain": [
       "<Figure size 864x864 with 2 Axes>"
      ]
     },
     "metadata": {
      "needs_background": "light"
     },
     "output_type": "display_data"
    }
   ],
   "source": [
    "fig, ax = plt.subplots(figsize=(12,12))\n",
    "sns.heatmap(Housing_data.isnull(), ax=ax, cmap=\"YlGnBu\", center=0).set(\n",
    "            title = 'Missing Data', \n",
    "            xlabel = 'Columns', \n",
    "            ylabel = 'Data Points');"
   ]
  },
  {
   "cell_type": "code",
   "execution_count": 11,
   "id": "767e499a",
   "metadata": {},
   "outputs": [],
   "source": [
    "vars_with_na = [var for var in Housing_data.columns if Housing_data[var].isnull().sum() > 0]\n"
   ]
  },
  {
   "cell_type": "code",
   "execution_count": 12,
   "id": "ca4c2a3e",
   "metadata": {},
   "outputs": [],
   "source": [
    "def analyse_na_value(df, var):\n",
    "    df = Housing_data.copy()\n",
    "    # let's make a variable that indicates 1 if the observation was missing or zero otherwise\n",
    "    df[var] = np.where(df[var].isna(), 1, 0)\n",
    "    grs = df.groupby(var)['price'].median().reset_index()\n",
    "    plt.figure(figsize=(10,6))\n",
    "    sns.barplot(x=grs[var], y=grs['price'])\n",
    "    plt.title(var)\n",
    "    plt.show()"
   ]
  },
  {
   "cell_type": "code",
   "execution_count": 13,
   "id": "033bc6d0",
   "metadata": {},
   "outputs": [
    {
     "data": {
      "image/png": "[encoded data removed]",
      "text/plain": [
       "<Figure size 720x432 with 1 Axes>"
      ]
     },
     "metadata": {
      "needs_background": "light"
     },
     "output_type": "display_data"
    },
    {
     "data": {
      "image/png": "[encoded data removed]",
      "text/plain": [
       "<Figure size 720x432 with 1 Axes>"
      ]
     },
     "metadata": {
      "needs_background": "light"
     },
     "output_type": "display_data"
    },
    {
     "data": {
      "image/png": "[encoded data removed]",
      "text/plain": [
       "<Figure size 720x432 with 1 Axes>"
      ]
     },
     "metadata": {
      "needs_background": "light"
     },
     "output_type": "display_data"
    },
    {
     "data": {
      "image/png": "[encoded data removed]",
      "text/plain": [
       "<Figure size 720x432 with 1 Axes>"
      ]
     },
     "metadata": {
      "needs_background": "light"
     },
     "output_type": "display_data"
    }
   ],
   "source": [
    "for var in vars_with_na:\n",
    "    analyse_na_value(Housing_data, var)\n"
   ]
  },
  {
   "cell_type": "code",
   "execution_count": 14,
   "id": "f4ecaf77",
   "metadata": {},
   "outputs": [
    {
     "data": {
      "text/plain": [
       "region            state\n",
       "SF bay area       ca       2327\n",
       "bakersfield       ca       1644\n",
       "chico             ca        264\n",
       "fresno / madera   ca       2195\n",
       "gold country      ca        256\n",
       "hanford-corcoran  ca        815\n",
       "humboldt county   ca        145\n",
       "imperial county   ca         92\n",
       "inland empire     ca       2561\n",
       "los angeles       ca       2260\n",
       "mendocino county  ca         57\n",
       "merced            ca        269\n",
       "modesto           ca       1265\n",
       "monterey bay      ca       1147\n",
       "orange county     ca       2388\n",
       "palm springs      ca       1409\n",
       "redding           ca        237\n",
       "reno / tahoe      ca       1990\n",
       "sacramento        ca       2385\n",
       "san diego         ca       2357\n",
       "san luis obispo   ca        448\n",
       "santa barbara     ca        628\n",
       "santa maria       ca        138\n",
       "siskiyou county   ca         42\n",
       "stockton          ca       2571\n",
       "susanville        ca         15\n",
       "ventura county    ca       2579\n",
       "visalia-tulare    ca        449\n",
       "yuba-sutter       ca        152\n",
       "Name: state, dtype: int64"
      ]
     },
     "execution_count": 14,
     "metadata": {},
     "output_type": "execute_result"
    }
   ],
   "source": [
    "Housing_data.groupby('region')['state'].value_counts()\n"
   ]
  },
  {
   "cell_type": "markdown",
   "id": "33e64747",
   "metadata": {},
   "source": [
    "##29 Regions in total for california"
   ]
  },
  {
   "cell_type": "code",
   "execution_count": 15,
   "id": "cbb3ac4a",
   "metadata": {},
   "outputs": [
    {
     "data": {
      "image/png": "[encoded data removed]",
      "text/plain": [
       "<Figure size 720x432 with 1 Axes>"
      ]
     },
     "metadata": {
      "needs_background": "light"
     },
     "output_type": "display_data"
    }
   ],
   "source": [
    "from shapely.geometry import Point\n",
    "import geopandas as gpd\n",
    "from geopandas import GeoDataFrame\n",
    "\n",
    "\n",
    "geometry = [Point(xy) for xy in zip(Housing_data['long'], Housing_data['lat'])]\n",
    "gdf = GeoDataFrame(Housing_data, geometry=geometry)   \n",
    "\n",
    "#this is a simple map that goes with geopandas\n",
    "world = gpd.read_file(gpd.datasets.get_path('naturalearth_lowres'))\n",
    "gdf.plot(ax=world.plot(figsize=(10, 6)), marker='o', color='red', markersize=15);"
   ]
  },
  {
   "cell_type": "code",
   "execution_count": 17,
   "id": "53db575e",
   "metadata": {},
   "outputs": [
    {
     "data": {
      "text/plain": [
       "0        https://bakersfield.craigslist.org\n",
       "1        https://bakersfield.craigslist.org\n",
       "2             https://fresno.craigslist.org\n",
       "3             https://fresno.craigslist.org\n",
       "4            https://hanford.craigslist.org\n",
       "                        ...                \n",
       "33080     https://yubasutter.craigslist.org\n",
       "33081     https://yubasutter.craigslist.org\n",
       "33082     https://yubasutter.craigslist.org\n",
       "33083     https://yubasutter.craigslist.org\n",
       "33084     https://yubasutter.craigslist.org\n",
       "Name: region_url, Length: 33085, dtype: object"
      ]
     },
     "execution_count": 17,
     "metadata": {},
     "output_type": "execute_result"
    }
   ],
   "source": [
    "Housing_data['region_url']"
   ]
  },
  {
   "cell_type": "code",
   "execution_count": 18,
   "id": "4ecca3e1",
   "metadata": {},
   "outputs": [
    {
     "data": {
      "text/plain": [
       "0        https://bakersfield.craigslist.org/apa/d/baker...\n",
       "1        https://bakersfield.craigslist.org/apa/d/baker...\n",
       "2        https://fresno.craigslist.org/apa/d/fresno-fan...\n",
       "3        https://fresno.craigslist.org/apa/d/fresno-all...\n",
       "4        https://hanford.craigslist.org/apa/d/waukena-y...\n",
       "                               ...                        \n",
       "33080    https://yubasutter.craigslist.org/apa/d/yuba-c...\n",
       "33081    https://yubasutter.craigslist.org/apa/d/yuba-c...\n",
       "33082    https://yubasutter.craigslist.org/apa/d/yuba-c...\n",
       "33083    https://yubasutter.craigslist.org/apa/d/yuba-c...\n",
       "33084    https://yubasutter.craigslist.org/apa/d/yuba-c...\n",
       "Name: url, Length: 33085, dtype: object"
      ]
     },
     "execution_count": 18,
     "metadata": {},
     "output_type": "execute_result"
    }
   ],
   "source": [
    "Housing_data['url']"
   ]
  },
  {
   "cell_type": "code",
   "execution_count": 22,
   "id": "74c88b5f",
   "metadata": {
    "scrolled": false
   },
   "outputs": [],
   "source": [
    "pd.set_option('display.max_columns', None)\n",
    "\n",
    "a=Housing_data.head(1)"
   ]
  },
  {
   "cell_type": "code",
   "execution_count": 23,
   "id": "8fd374e8",
   "metadata": {},
   "outputs": [
    {
     "data": {
      "text/html": [
       "<div>\n",
       "<style scoped>\n",
       "    .dataframe tbody tr th:only-of-type {\n",
       "        vertical-align: middle;\n",
       "    }\n",
       "\n",
       "    .dataframe tbody tr th {\n",
       "        vertical-align: top;\n",
       "    }\n",
       "\n",
       "    .dataframe thead th {\n",
       "        text-align: right;\n",
       "    }\n",
       "</style>\n",
       "<table border=\"1\" class=\"dataframe\">\n",
       "  <thead>\n",
       "    <tr style=\"text-align: right;\">\n",
       "      <th></th>\n",
       "      <th>id</th>\n",
       "      <th>url</th>\n",
       "      <th>region</th>\n",
       "      <th>region_url</th>\n",
       "      <th>price</th>\n",
       "      <th>type</th>\n",
       "      <th>sqfeet</th>\n",
       "      <th>beds</th>\n",
       "      <th>baths</th>\n",
       "      <th>cats_allowed</th>\n",
       "      <th>dogs_allowed</th>\n",
       "      <th>smoking_allowed</th>\n",
       "      <th>wheelchair_access</th>\n",
       "      <th>electric_vehicle_charge</th>\n",
       "      <th>comes_furnished</th>\n",
       "      <th>laundry_options</th>\n",
       "      <th>parking_options</th>\n",
       "      <th>image_url</th>\n",
       "      <th>description</th>\n",
       "      <th>lat</th>\n",
       "      <th>long</th>\n",
       "      <th>state</th>\n",
       "    </tr>\n",
       "  </thead>\n",
       "  <tbody>\n",
       "    <tr>\n",
       "      <th>0</th>\n",
       "      <td>7043564175</td>\n",
       "      <td>https://bakersfield.craigslist.org/apa/d/baker...</td>\n",
       "      <td>bakersfield</td>\n",
       "      <td>https://bakersfield.craigslist.org</td>\n",
       "      <td>980</td>\n",
       "      <td>apartment</td>\n",
       "      <td>1000</td>\n",
       "      <td>2</td>\n",
       "      <td>1.0</td>\n",
       "      <td>0</td>\n",
       "      <td>0</td>\n",
       "      <td>1</td>\n",
       "      <td>0</td>\n",
       "      <td>0</td>\n",
       "      <td>0</td>\n",
       "      <td>laundry on site</td>\n",
       "      <td>carport</td>\n",
       "      <td>https://images.craigslist.org/00k0k_ejqvoocN8W...</td>\n",
       "      <td>Our BEAUTIFUL apartments provide enough space ...</td>\n",
       "      <td>35.3468</td>\n",
       "      <td>-119.049</td>\n",
       "      <td>ca</td>\n",
       "    </tr>\n",
       "  </tbody>\n",
       "</table>\n",
       "</div>"
      ],
      "text/plain": [
       "           id                                                url       region  \\\n",
       "0  7043564175  https://bakersfield.craigslist.org/apa/d/baker...  bakersfield   \n",
       "\n",
       "                           region_url  price       type  sqfeet  beds  baths  \\\n",
       "0  https://bakersfield.craigslist.org    980  apartment    1000     2    1.0   \n",
       "\n",
       "   cats_allowed  dogs_allowed  smoking_allowed  wheelchair_access  \\\n",
       "0             0             0                1                  0   \n",
       "\n",
       "   electric_vehicle_charge  comes_furnished  laundry_options parking_options  \\\n",
       "0                        0                0  laundry on site         carport   \n",
       "\n",
       "                                           image_url  \\\n",
       "0  https://images.craigslist.org/00k0k_ejqvoocN8W...   \n",
       "\n",
       "                                         description      lat     long state  \n",
       "0  Our BEAUTIFUL apartments provide enough space ...  35.3468 -119.049    ca  "
      ]
     },
     "execution_count": 23,
     "metadata": {},
     "output_type": "execute_result"
    }
   ],
   "source": [
    "a"
   ]
  },
  {
   "cell_type": "code",
   "execution_count": 19,
   "id": "ddfeb2d7",
   "metadata": {},
   "outputs": [
    {
     "data": {
      "text/plain": [
       "id                          True\n",
       "url                         True\n",
       "region                      True\n",
       "region_url                  True\n",
       "price                       True\n",
       "type                        True\n",
       "sqfeet                      True\n",
       "beds                        True\n",
       "baths                       True\n",
       "cats_allowed               False\n",
       "dogs_allowed               False\n",
       "smoking_allowed             True\n",
       "wheelchair_access          False\n",
       "electric_vehicle_charge    False\n",
       "comes_furnished            False\n",
       "laundry_options             True\n",
       "parking_options             True\n",
       "image_url                   True\n",
       "description                 True\n",
       "lat                         True\n",
       "long                        True\n",
       "state                       True\n",
       "dtype: bool"
      ]
     },
     "execution_count": 19,
     "metadata": {},
     "output_type": "execute_result"
    }
   ],
   "source": [
    "new"
   ]
  },
  {
   "cell_type": "code",
   "execution_count": null,
   "id": "a820b706",
   "metadata": {},
   "outputs": [],
   "source": []
  }
 ],
 "metadata": {
  "kernelspec": {
   "display_name": "Python 3 (ipykernel)",
   "language": "python",
   "name": "python3"
  },
  "language_info": {
   "codemirror_mode": {
    "name": "ipython",
    "version": 3
   },
   "file_extension": ".py",
   "mimetype": "text/x-python",
   "name": "python",
   "nbconvert_exporter": "python",
   "pygments_lexer": "ipython3",
   "version": "3.9.12"
  }
 },
 "nbformat": 4,
 "nbformat_minor": 5
}
